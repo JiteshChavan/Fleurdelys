{
 "cells": [
  {
   "cell_type": "code",
   "execution_count": 1,
   "id": "f77e03d1",
   "metadata": {},
   "outputs": [],
   "source": [
    "import torch\n",
    "import torch.nn as nn\n",
    "\n",
    "model = nn.Linear(2, 4, True)\n",
    "np = model.named_parameters()"
   ]
  },
  {
   "cell_type": "code",
   "execution_count": 7,
   "id": "f637f670",
   "metadata": {},
   "outputs": [],
   "source": [
    "param_dict = {n:p for n,p in model.named_parameters()}"
   ]
  },
  {
   "cell_type": "code",
   "execution_count": 28,
   "id": "63a756af",
   "metadata": {},
   "outputs": [],
   "source": [
    "with torch.no_grad():\n",
    "    param_dict[\"weight\"].add_(1, alpha=1)"
   ]
  },
  {
   "cell_type": "code",
   "execution_count": 29,
   "id": "edf9afee",
   "metadata": {},
   "outputs": [
    {
     "data": {
      "text/plain": [
       "Parameter containing:\n",
       "tensor([[-0.4455, -0.1036],\n",
       "        [ 3.4462,  3.1909],\n",
       "        [ 0.4231,  0.5255],\n",
       "        [ 3.2258, -1.1044]], requires_grad=True)"
      ]
     },
     "execution_count": 29,
     "metadata": {},
     "output_type": "execute_result"
    }
   ],
   "source": [
    "param_dict[\"weight\"]"
   ]
  },
  {
   "cell_type": "code",
   "execution_count": null,
   "id": "038b21c7",
   "metadata": {},
   "outputs": [],
   "source": []
  }
 ],
 "metadata": {
  "kernelspec": {
   "display_name": "mamba",
   "language": "python",
   "name": "python3"
  },
  "language_info": {
   "codemirror_mode": {
    "name": "ipython",
    "version": 3
   },
   "file_extension": ".py",
   "mimetype": "text/x-python",
   "name": "python",
   "nbconvert_exporter": "python",
   "pygments_lexer": "ipython3",
   "version": "3.10.13"
  }
 },
 "nbformat": 4,
 "nbformat_minor": 5
}
