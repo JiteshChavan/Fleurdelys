{
 "cells": [
  {
   "cell_type": "code",
   "execution_count": 25,
   "id": "f77e03d1",
   "metadata": {},
   "outputs": [],
   "source": [
    "import torch\n",
    "import torch.nn as nn\n",
    "from collections import OrderedDict\n",
    "model = nn.Linear(2, 4, True)\n",
    "np = model.named_parameters()"
   ]
  },
  {
   "cell_type": "code",
   "execution_count": 26,
   "id": "f637f670",
   "metadata": {},
   "outputs": [],
   "source": [
    "param_dict = {n:p for n,p in model.named_parameters()}\n",
    "ordered_dict = OrderedDict(model.named_parameters())"
   ]
  },
  {
   "cell_type": "code",
   "execution_count": 27,
   "id": "757a358f",
   "metadata": {},
   "outputs": [
    {
     "name": "stdout",
     "output_type": "stream",
     "text": [
      "weight Parameter containing:\n",
      "tensor([[ 0.0586, -0.3458],\n",
      "        [ 0.1746, -0.2399],\n",
      "        [-0.5811, -0.3315],\n",
      "        [ 0.0044, -0.3323]], requires_grad=True)\n",
      "bias Parameter containing:\n",
      "tensor([ 0.4326,  0.4987, -0.6775, -0.3716], requires_grad=True)\n",
      "weight Parameter containing:\n",
      "tensor([[ 0.0586, -0.3458],\n",
      "        [ 0.1746, -0.2399],\n",
      "        [-0.5811, -0.3315],\n",
      "        [ 0.0044, -0.3323]], requires_grad=True)\n",
      "this thing requires grad\n",
      "bias Parameter containing:\n",
      "tensor([ 0.4326,  0.4987, -0.6775, -0.3716], requires_grad=True)\n",
      "this thing requires grad\n"
     ]
    }
   ],
   "source": [
    "for n, p in param_dict.items():\n",
    "    print(n, p)\n",
    "\n",
    "for n, p in ordered_dict.items():\n",
    "    print(n, p)\n",
    "    if ordered_dict[n].requires_grad:\n",
    "        print (\"this thing requires grad\") "
   ]
  },
  {
   "cell_type": "code",
   "execution_count": 28,
   "id": "a73e539a",
   "metadata": {},
   "outputs": [],
   "source": [
    "@torch.no_grad()\n",
    "def update_ema(ema_model, model, decay=0.9999):\n",
    "    \"\"\"\n",
    "    Step the EMA model towards the current model.\n",
    "    \"\"\"\n",
    "    \n",
    "    # can use list comprehension alternative instead as well dict = {n:p for n,p in ...}\n",
    "    ema_params = OrderedDict(ema_model.named_parameters())\n",
    "    model_params = OrderedDict(model.named_parameters())\n",
    "\n",
    "    for name, param in model_params.items():\n",
    "        # p = 0.999 pold + 0.0001*pnew\n",
    "        \n",
    "        # apply only to params that require_grad to avoid small numerical changes in pos_embed\n",
    "        # which should be registered as buffers either way\n",
    "        if ema_params[name].requires_grad:\n",
    "            ema_params[name].mul_(decay).add_(param.data, alpha = 1 - decay)"
   ]
  },
  {
   "cell_type": "code",
   "execution_count": 23,
   "id": "25ea57cc",
   "metadata": {},
   "outputs": [],
   "source": [
    "update_ema (model, model, decay=2)"
   ]
  },
  {
   "cell_type": "code",
   "execution_count": 29,
   "id": "6c1643dc",
   "metadata": {},
   "outputs": [
    {
     "data": {
      "text/plain": [
       "Parameter containing:\n",
       "tensor([[ 0.0586, -0.3458],\n",
       "        [ 0.1746, -0.2399],\n",
       "        [-0.5811, -0.3315],\n",
       "        [ 0.0044, -0.3323]], requires_grad=True)"
      ]
     },
     "execution_count": 29,
     "metadata": {},
     "output_type": "execute_result"
    }
   ],
   "source": [
    "model.weight\n"
   ]
  },
  {
   "cell_type": "code",
   "execution_count": 8,
   "id": "63a756af",
   "metadata": {},
   "outputs": [],
   "source": [
    "with torch.no_grad():\n",
    "    param_dict[\"weight\"].add_(1, alpha=1)"
   ]
  },
  {
   "cell_type": "code",
   "execution_count": 9,
   "id": "edf9afee",
   "metadata": {},
   "outputs": [
    {
     "data": {
      "text/plain": [
       "Parameter containing:\n",
       "tensor([[1., 1.],\n",
       "        [1., 1.],\n",
       "        [1., 1.],\n",
       "        [1., 1.]], requires_grad=True)"
      ]
     },
     "execution_count": 9,
     "metadata": {},
     "output_type": "execute_result"
    }
   ],
   "source": [
    "param_dict[\"weight\"]"
   ]
  },
  {
   "cell_type": "code",
   "execution_count": 20,
   "id": "038b21c7",
   "metadata": {},
   "outputs": [],
   "source": [
    "rank = False\n",
    "\n",
    "master_process = True if rank else rank"
   ]
  },
  {
   "cell_type": "code",
   "execution_count": 21,
   "id": "bfaee45a",
   "metadata": {},
   "outputs": [
    {
     "data": {
      "text/plain": [
       "False"
      ]
     },
     "execution_count": 21,
     "metadata": {},
     "output_type": "execute_result"
    }
   ],
   "source": [
    "master_process"
   ]
  },
  {
   "cell_type": "code",
   "execution_count": null,
   "id": "97e763ef",
   "metadata": {},
   "outputs": [],
   "source": []
  }
 ],
 "metadata": {
  "kernelspec": {
   "display_name": "mamba",
   "language": "python",
   "name": "python3"
  },
  "language_info": {
   "codemirror_mode": {
    "name": "ipython",
    "version": 3
   },
   "file_extension": ".py",
   "mimetype": "text/x-python",
   "name": "python",
   "nbconvert_exporter": "python",
   "pygments_lexer": "ipython3",
   "version": "3.10.13"
  }
 },
 "nbformat": 4,
 "nbformat_minor": 5
}
