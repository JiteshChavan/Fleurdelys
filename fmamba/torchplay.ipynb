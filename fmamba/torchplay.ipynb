{
 "cells": [
  {
   "cell_type": "code",
   "execution_count": 1,
   "id": "f77e03d1",
   "metadata": {},
   "outputs": [],
   "source": [
    "import torch\n",
    "import torch.nn as nn\n",
    "from collections import OrderedDict\n",
    "model = nn.Linear(2, 4, True)\n",
    "np = model.named_parameters()"
   ]
  },
  {
   "cell_type": "code",
   "execution_count": 2,
   "id": "f637f670",
   "metadata": {},
   "outputs": [],
   "source": [
    "param_dict = {n:p for n,p in model.named_parameters()}\n",
    "ordered_dict = OrderedDict(model.named_parameters())"
   ]
  },
  {
   "cell_type": "code",
   "execution_count": null,
   "id": "757a358f",
   "metadata": {},
   "outputs": [
    {
     "name": "stdout",
     "output_type": "stream",
     "text": [
      "weight Parameter containing:\n",
      "tensor([[ 0.4793, -0.6502],\n",
      "        [ 0.5793,  0.0958],\n",
      "        [-0.7064, -0.5184],\n",
      "        [ 0.2039, -0.3985]], requires_grad=True)\n",
      "bias Parameter containing:\n",
      "tensor([ 0.5365, -0.2122,  0.5024, -0.2950], requires_grad=True)\n",
      "weight Parameter containing:\n",
      "tensor([[ 0.4793, -0.6502],\n",
      "        [ 0.5793,  0.0958],\n",
      "        [-0.7064, -0.5184],\n",
      "        [ 0.2039, -0.3985]], requires_grad=True)\n",
      "this thing requires grad\n",
      "bias Parameter containing:\n",
      "tensor([ 0.5365, -0.2122,  0.5024, -0.2950], requires_grad=True)\n",
      "this thing requires grad\n"
     ]
    }
   ],
   "source": [
    "for n, p in param_dict.items():\n",
    "    print(n, p)\n",
    "\n",
    "for n, p in ordered_dict.items():\n",
    "    print(n, p)\n",
    "    if ordered_dict[n].requires_grad:\n",
    "        print (\"this thing requires grad\") "
   ]
  },
  {
   "cell_type": "code",
   "execution_count": 28,
   "id": "63a756af",
   "metadata": {},
   "outputs": [],
   "source": [
    "with torch.no_grad():\n",
    "    param_dict[\"weight\"].add_(1, alpha=1)"
   ]
  },
  {
   "cell_type": "code",
   "execution_count": 29,
   "id": "edf9afee",
   "metadata": {},
   "outputs": [
    {
     "data": {
      "text/plain": [
       "Parameter containing:\n",
       "tensor([[-0.4455, -0.1036],\n",
       "        [ 3.4462,  3.1909],\n",
       "        [ 0.4231,  0.5255],\n",
       "        [ 3.2258, -1.1044]], requires_grad=True)"
      ]
     },
     "execution_count": 29,
     "metadata": {},
     "output_type": "execute_result"
    }
   ],
   "source": [
    "param_dict[\"weight\"]"
   ]
  },
  {
   "cell_type": "code",
   "execution_count": 20,
   "id": "038b21c7",
   "metadata": {},
   "outputs": [],
   "source": [
    "rank = False\n",
    "\n",
    "master_process = True if rank else rank"
   ]
  },
  {
   "cell_type": "code",
   "execution_count": 21,
   "id": "bfaee45a",
   "metadata": {},
   "outputs": [
    {
     "data": {
      "text/plain": [
       "False"
      ]
     },
     "execution_count": 21,
     "metadata": {},
     "output_type": "execute_result"
    }
   ],
   "source": [
    "master_process"
   ]
  },
  {
   "cell_type": "code",
   "execution_count": null,
   "id": "97e763ef",
   "metadata": {},
   "outputs": [],
   "source": []
  }
 ],
 "metadata": {
  "kernelspec": {
   "display_name": "mamba",
   "language": "python",
   "name": "python3"
  },
  "language_info": {
   "codemirror_mode": {
    "name": "ipython",
    "version": 3
   },
   "file_extension": ".py",
   "mimetype": "text/x-python",
   "name": "python",
   "nbconvert_exporter": "python",
   "pygments_lexer": "ipython3",
   "version": "3.10.13"
  }
 },
 "nbformat": 4,
 "nbformat_minor": 5
}
